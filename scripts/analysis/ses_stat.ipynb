{
 "cells": [
  {
   "cell_type": "code",
   "execution_count": 1,
   "id": "c618b6ba",
   "metadata": {},
   "outputs": [],
   "source": [
    "import sys\n",
    "import os\n",
    "import json\n",
    "import pandas as pd\n",
    "import matplotlib.pyplot as plt\n",
    "from sage_data_client import query"
   ]
  },
  {
   "cell_type": "code",
   "execution_count": 2,
   "id": "edad15d6",
   "metadata": {},
   "outputs": [],
   "source": [
    "def get_plugins_per_node(jobs):\n",
    "    for _, j in jobs.iterrows():\n",
    "        if isinstance(j[\"science_goal\"], dict):\n",
    "            # print(j[\"science_goal\"][\"sub_goals\"])\n",
    "            sub_goals = j[\"science_goal\"][\"sub_goals\"]\n",
    "            for sub_goal in sub_goals:\n",
    "                for plugin in sub_goal[\"plugins\"]:\n",
    "                    yield pd.Series(data=[j[\"job_id\"], sub_goal[\"name\"], plugin[\"name\"], os.path.basename(plugin[\"plugin_spec\"][\"image\"])], index=[\"job\", \"vsn\", \"plugin_name\", \"image\"])\n",
    "    "
   ]
  },
  {
   "cell_type": "code",
   "execution_count": 3,
   "id": "dd453646",
   "metadata": {},
   "outputs": [],
   "source": [
    "url = \"https://es.sagecontinuum.org/api/v1/jobs/list\"\n",
    "df = pd.read_json(url).T"
   ]
  },
  {
   "cell_type": "code",
   "execution_count": 12,
   "id": "54670548",
   "metadata": {},
   "outputs": [
    {
     "name": "stdout",
     "output_type": "stream",
     "text": [
      "[{'name': 'traffic-state-estimator', 'plugin_spec': {'image': 'registry.sagecontinuum.org/seonghapark/traffic-state:0.1.0', 'args': ['-stream', 'rtsp://10.31.81.18:554/0/profile10/media.smp', 'duration', '30', '-roi-area', '40', '-roi-length', '10', '-roi-coordinates', '0.25,0.44 0.44,0.3 0.8,0.44 0.81,0.74', '-loi-coordinates', '0.25,0.44 0.44,0.3', '-sampling-interval', '0'], 'selector': {'resource.gpu': 'true'}}, 'status': {'scheduling': 'Waiting', 'since': '2022-11-09T17:44:27.162011107Z'}, 'goal_id': '6ab1a8dc-c966-4a67-4939-2b29f4412564'}]\n"
     ]
    }
   ],
   "source": [
    "for p in df[df[\"job_id\"]==\"32\"].plugins:\n",
    "    print(p)"
   ]
  },
  {
   "cell_type": "code",
   "execution_count": 6,
   "id": "17d64f19",
   "metadata": {},
   "outputs": [],
   "source": [
    "data = pd.DataFrame(get_plugins_per_node(df))"
   ]
  },
  {
   "cell_type": "code",
   "execution_count": 7,
   "id": "c904e156",
   "metadata": {},
   "outputs": [],
   "source": [
    "grouped_by_image = data.groupby(by=[\"image\"])"
   ]
  },
  {
   "cell_type": "code",
   "execution_count": 8,
   "id": "833674d6",
   "metadata": {},
   "outputs": [
    {
     "data": {
      "text/html": [
       "<div>\n",
       "<style scoped>\n",
       "    .dataframe tbody tr th:only-of-type {\n",
       "        vertical-align: middle;\n",
       "    }\n",
       "\n",
       "    .dataframe tbody tr th {\n",
       "        vertical-align: top;\n",
       "    }\n",
       "\n",
       "    .dataframe thead th {\n",
       "        text-align: right;\n",
       "    }\n",
       "</style>\n",
       "<table border=\"1\" class=\"dataframe\">\n",
       "  <thead>\n",
       "    <tr style=\"text-align: right;\">\n",
       "      <th></th>\n",
       "      <th>job</th>\n",
       "      <th>vsn</th>\n",
       "      <th>plugin_name</th>\n",
       "      <th>image</th>\n",
       "    </tr>\n",
       "  </thead>\n",
       "  <tbody>\n",
       "    <tr>\n",
       "      <th>0</th>\n",
       "      <td>1</td>\n",
       "      <td>V001</td>\n",
       "      <td>imagesampler-neon40</td>\n",
       "      <td>imagesampler:0.3.0</td>\n",
       "    </tr>\n",
       "    <tr>\n",
       "      <th>1</th>\n",
       "      <td>1</td>\n",
       "      <td>V001</td>\n",
       "      <td>imagesampler-neon41</td>\n",
       "      <td>imagesampler:0.3.0</td>\n",
       "    </tr>\n",
       "    <tr>\n",
       "      <th>2</th>\n",
       "      <td>1</td>\n",
       "      <td>V001</td>\n",
       "      <td>object-counter-neon40</td>\n",
       "      <td>object-counter:0.5.1</td>\n",
       "    </tr>\n",
       "    <tr>\n",
       "      <th>3</th>\n",
       "      <td>1</td>\n",
       "      <td>V001</td>\n",
       "      <td>object-counter-neon41</td>\n",
       "      <td>object-counter:0.5.1</td>\n",
       "    </tr>\n",
       "    <tr>\n",
       "      <th>4</th>\n",
       "      <td>1</td>\n",
       "      <td>V001</td>\n",
       "      <td>smoke-detector-neon41</td>\n",
       "      <td>wildfire-smoke-detection:0.5.0</td>\n",
       "    </tr>\n",
       "    <tr>\n",
       "      <th>...</th>\n",
       "      <td>...</td>\n",
       "      <td>...</td>\n",
       "      <td>...</td>\n",
       "      <td>...</td>\n",
       "    </tr>\n",
       "    <tr>\n",
       "      <th>294</th>\n",
       "      <td>9</td>\n",
       "      <td>W02B</td>\n",
       "      <td>imagesampler-bottom</td>\n",
       "      <td>imagesampler:0.3.0</td>\n",
       "    </tr>\n",
       "    <tr>\n",
       "      <th>295</th>\n",
       "      <td>9</td>\n",
       "      <td>W02B</td>\n",
       "      <td>cloud-cover-top</td>\n",
       "      <td>cloud-cover:0.1.3</td>\n",
       "    </tr>\n",
       "    <tr>\n",
       "      <th>296</th>\n",
       "      <td>9</td>\n",
       "      <td>W02B</td>\n",
       "      <td>cloud-motion-top</td>\n",
       "      <td>cloud-motion:0.22.2.27</td>\n",
       "    </tr>\n",
       "    <tr>\n",
       "      <th>297</th>\n",
       "      <td>9</td>\n",
       "      <td>W02B</td>\n",
       "      <td>object-counter-bottom</td>\n",
       "      <td>object-counter:0.5.1</td>\n",
       "    </tr>\n",
       "    <tr>\n",
       "      <th>298</th>\n",
       "      <td>9</td>\n",
       "      <td>W02B</td>\n",
       "      <td>sound-event-detection</td>\n",
       "      <td>sound-event-detection:0.1.1</td>\n",
       "    </tr>\n",
       "  </tbody>\n",
       "</table>\n",
       "<p>299 rows × 4 columns</p>\n",
       "</div>"
      ],
      "text/plain": [
       "    job   vsn            plugin_name                           image\n",
       "0     1  V001    imagesampler-neon40              imagesampler:0.3.0\n",
       "1     1  V001    imagesampler-neon41              imagesampler:0.3.0\n",
       "2     1  V001  object-counter-neon40            object-counter:0.5.1\n",
       "3     1  V001  object-counter-neon41            object-counter:0.5.1\n",
       "4     1  V001  smoke-detector-neon41  wildfire-smoke-detection:0.5.0\n",
       "..   ..   ...                    ...                             ...\n",
       "294   9  W02B    imagesampler-bottom              imagesampler:0.3.0\n",
       "295   9  W02B        cloud-cover-top               cloud-cover:0.1.3\n",
       "296   9  W02B       cloud-motion-top          cloud-motion:0.22.2.27\n",
       "297   9  W02B  object-counter-bottom            object-counter:0.5.1\n",
       "298   9  W02B  sound-event-detection     sound-event-detection:0.1.1\n",
       "\n",
       "[299 rows x 4 columns]"
      ]
     },
     "execution_count": 8,
     "metadata": {},
     "output_type": "execute_result"
    }
   ],
   "source": [
    "data"
   ]
  },
  {
   "cell_type": "code",
   "execution_count": 9,
   "id": "2ad7485e",
   "metadata": {},
   "outputs": [],
   "source": [
    "df2 = data.drop_duplicates(subset=[\"image\", \"vsn\"])"
   ]
  },
  {
   "cell_type": "markdown",
   "id": "7f4e53fa",
   "metadata": {},
   "source": [
    "Count number of Waggle nodes that run the edge plugins"
   ]
  },
  {
   "cell_type": "code",
   "execution_count": 10,
   "id": "6563cea9",
   "metadata": {},
   "outputs": [
    {
     "data": {
      "text/plain": [
       "image\n",
       "avian-diversity-monitoring:0.2.4     3\n",
       "cloud-cover:0.1.3                   32\n",
       "cloud-motion:0.22.2.27              26\n",
       "gpu-stress-test:latest               1\n",
       "imagesampler:0.3.0                  58\n",
       "object-counter:0.5.1                55\n",
       "sound-event-detection:0.1.1         27\n",
       "surface-water-classifier:0.0.5       1\n",
       "video-sampler:0.2.4                  1\n",
       "water-depth-estimator:0.0.1          3\n",
       "wildfire-smoke-detection:0.5.0       7\n",
       "Name: vsn, dtype: int64"
      ]
     },
     "execution_count": 10,
     "metadata": {},
     "output_type": "execute_result"
    }
   ],
   "source": [
    "df2.groupby(\"image\")[\"vsn\"].count()"
   ]
  },
  {
   "cell_type": "code",
   "execution_count": 11,
   "id": "1621e496",
   "metadata": {},
   "outputs": [
    {
     "data": {
      "text/plain": [
       "vsn\n",
       "V001    4\n",
       "V002    4\n",
       "V003    5\n",
       "V004    5\n",
       "V005    4\n",
       "V006    5\n",
       "W014    1\n",
       "W015    5\n",
       "W019    5\n",
       "W01E    2\n",
       "W021    5\n",
       "W023    2\n",
       "W024    6\n",
       "W026    5\n",
       "W027    5\n",
       "W028    4\n",
       "W029    6\n",
       "W02B    5\n",
       "W02C    5\n",
       "W02D    2\n",
       "W02E    2\n",
       "W02F    2\n",
       "W040    2\n",
       "W045    5\n",
       "W046    2\n",
       "W047    2\n",
       "W048    2\n",
       "W049    2\n",
       "W04A    2\n",
       "W05F    2\n",
       "W060    2\n",
       "W061    2\n",
       "W062    2\n",
       "W063    2\n",
       "W064    2\n",
       "W069    5\n",
       "W06A    5\n",
       "W06D    1\n",
       "W06F    5\n",
       "W078    5\n",
       "W079    5\n",
       "W07A    5\n",
       "W07B    5\n",
       "W07C    5\n",
       "W07D    5\n",
       "W07E    5\n",
       "W07F    5\n",
       "W080    5\n",
       "W081    5\n",
       "W084    6\n",
       "W087    5\n",
       "W088    5\n",
       "W089    2\n",
       "W08A    2\n",
       "W08F    2\n",
       "W090    2\n",
       "W091    2\n",
       "W092    2\n",
       "W093    2\n",
       "Name: image, dtype: int64"
      ]
     },
     "execution_count": 11,
     "metadata": {},
     "output_type": "execute_result"
    }
   ],
   "source": [
    "df2.groupby(\"vsn\")[\"image\"].count()"
   ]
  }
 ],
 "metadata": {
  "kernelspec": {
   "display_name": "Python 3.10.7 64-bit",
   "language": "python",
   "name": "python3"
  },
  "language_info": {
   "codemirror_mode": {
    "name": "ipython",
    "version": 3
   },
   "file_extension": ".py",
   "mimetype": "text/x-python",
   "name": "python",
   "nbconvert_exporter": "python",
   "pygments_lexer": "ipython3",
   "version": "3.10.7"
  },
  "vscode": {
   "interpreter": {
    "hash": "aee8b7b246df8f9039afb4144a1f6fd8d2ca17a180786b69acc140d282b71a49"
   }
  }
 },
 "nbformat": 4,
 "nbformat_minor": 5
}
