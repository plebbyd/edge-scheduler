{
 "cells": [
  {
   "cell_type": "code",
   "execution_count": 33,
   "id": "cbcd8ce0",
   "metadata": {},
   "outputs": [],
   "source": [
    "from utils import *"
   ]
  },
  {
   "cell_type": "markdown",
   "id": "9bca480c",
   "metadata": {},
   "source": [
    "In this analysis, we target the Waggle node [W02F](https://portal.sagecontinuum.org/node/000048B02D15BDC2) and look for all plugin runs in the last day."
   ]
  },
  {
   "cell_type": "code",
   "execution_count": 34,
   "id": "061400cf",
   "metadata": {},
   "outputs": [],
   "source": [
    "df = fill_completion_failure(parse_events(get_data(\"w02f\", start=\"-1d\")))"
   ]
  },
  {
   "cell_type": "markdown",
   "id": "b1e1c43e",
   "metadata": {},
   "source": [
    "We examine names of the plugins and their count of succeeded runs. Any failed plugin runs are not considered for this analysis."
   ]
  },
  {
   "cell_type": "code",
   "execution_count": 35,
   "id": "805a4057",
   "metadata": {},
   "outputs": [
    {
     "data": {
      "text/plain": [
       "plugin_task\n",
       "imagesampler-left       18\n",
       "imagesampler-right      21\n",
       "object-counter-left     24\n",
       "object-counter-right    38\n",
       "dtype: int64"
      ]
     },
     "execution_count": 35,
     "metadata": {},
     "output_type": "execute_result"
    }
   ],
   "source": [
    "grouped_by_plugin = df[df[\"end_state\"] == \"completed\"].groupby(\"plugin_task\")\n",
    "grouped_by_plugin.size()"
   ]
  },
  {
   "cell_type": "markdown",
   "id": "9cf10d40",
   "metadata": {},
   "source": [
    "We pick `imagesampler-left` plugin to analyze its performance.\n",
    "\n",
    "Now, we print a few Kubernetes pod (i.e., an instance) names of the plugin. The names consists of plugin name and random-like characters at the tail. Each of the pod names represents a particular run of the plugin."
   ]
  },
  {
   "cell_type": "code",
   "execution_count": 37,
   "id": "11d494ca",
   "metadata": {},
   "outputs": [
    {
     "data": {
      "text/plain": [
       "127    object-counter-left-sf7k6\n",
       "132    object-counter-left-vk9q9\n",
       "137    object-counter-left-5ps7w\n",
       "142    object-counter-left-shs2q\n",
       "147    object-counter-left-9d6t2\n",
       "Name: k3s_pod_name, dtype: object"
      ]
     },
     "execution_count": 37,
     "metadata": {},
     "output_type": "execute_result"
    }
   ],
   "source": [
    "object_counter_left = grouped_by_plugin.get_group(\"object-counter-left\")\n",
    "object_counter_left[\"k3s_pod_name\"].head()"
   ]
  },
  {
   "cell_type": "markdown",
   "id": "f1c970e3",
   "metadata": {},
   "source": [
    "Statistics of their execution time can be obtained as follows,"
   ]
  },
  {
   "cell_type": "code",
   "execution_count": 38,
   "id": "f8a1fb95",
   "metadata": {},
   "outputs": [
    {
     "data": {
      "text/plain": [
       "count                           24\n",
       "mean     0 days 00:02:35.754127178\n",
       "std      0 days 00:00:53.913398980\n",
       "min      0 days 00:01:17.713955847\n",
       "25%      0 days 00:01:57.065659805\n",
       "50%      0 days 00:02:23.701895682\n",
       "75%      0 days 00:03:29.431627633\n",
       "max      0 days 00:04:34.907632266\n",
       "Name: runtime, dtype: object"
      ]
     },
     "execution_count": 38,
     "metadata": {},
     "output_type": "execute_result"
    }
   ],
   "source": [
    "object_counter_left[\"runtime\"].describe()"
   ]
  },
  {
   "cell_type": "markdown",
   "id": "ef617834",
   "metadata": {},
   "source": [
    "__NOTE: To get performance data of the plugin, we will need to access to the database inside the node. Obtaining the data from the database will require a user permission. Please [contact us](https://docs.waggle-edge.ai/docs/contact-us) if you need to do this analysis on your own.__"
   ]
  },
  {
   "cell_type": "markdown",
   "id": "3c9fe5a1",
   "metadata": {},
   "source": [
    "Below cell creates a bash script that can be run on the \"W02F\" Waggle node. This will create multiple CSV files, each of them represents performance data of the instance. After running it, you can copy the CSVs over to your laptop."
   ]
  },
  {
   "cell_type": "code",
   "execution_count": 39,
   "id": "8d050ed1",
   "metadata": {},
   "outputs": [
    {
     "name": "stdout",
     "output_type": "stream",
     "text": [
      "#!/bin/bash\n",
      "pluginctl profile get object-counter-left-sf7k6 --start \"2022-11-21T04:15:09.338281495+00:00\" --end \"2022-11-21T04:17:13.955714767+00:00\"\n",
      "\n",
      "pluginctl profile get object-counter-left-vk9q9 --start \"2022-11-21T05:15:09.554871239+00:00\" --end \"2022-11-21T05:19:01.648558179+00:00\"\n",
      "\n",
      "pluginctl profile get object-counter-left-5ps7w --start \"2022-11-21T06:15:09.610868163+00:00\" --end \"2022-11-21T06:17:17.357443579+00:00\"\n",
      "\n",
      "pluginctl profile get object-counter-left-shs2q --start \"2022-11-21T07:15:09.756605513+00:00\" --end \"2022-11-21T07:17:08.322547697+00:00\"\n",
      "\n",
      "pluginctl profile get object-counter-left-9d6t2 --start \"2022-11-21T08:15:09.226547378+00:00\" --end \"2022-11-21T08:17:46.452132392+00:00\"\n",
      "\n",
      "pluginctl profile get object-counter-left-zhmdr --start \"2022-11-21T09:15:09.276359344+00:00\" --end \"2022-11-21T09:17:03.553865585+00:00\"\n",
      "\n",
      "pluginctl profile get object-counter-left-hzzxz --start \"2022-11-21T10:15:09.363782425+00:00\" --end \"2022-11-21T10:17:39.754077545+00:00\"\n",
      "\n",
      "pluginctl profile get object-counter-left-rfw98 --start \"2022-11-21T11:15:09.427367366+00:00\" --end \"2022-11-21T11:18:50.441259459+00:00\"\n",
      "\n",
      "pluginctl profile get object-counter-left-hf6v7 --start \"2022-11-21T12:15:09.443423655+00:00\" --end \"2022-11-21T12:17:38.825098217+00:00\"\n",
      "\n",
      "pluginctl profile get object-counter-left-qkclc --start \"2022-11-21T13:15:09.538599277+00:00\" --end \"2022-11-21T13:17:57.450810790+00:00\"\n",
      "\n",
      "pluginctl profile get object-counter-left-92qp2 --start \"2022-11-21T14:15:09.336678879+00:00\" --end \"2022-11-21T14:17:27.358795681+00:00\"\n",
      "\n",
      "pluginctl profile get object-counter-left-hjhfv --start \"2022-11-21T15:15:09.393844011+00:00\" --end \"2022-11-21T15:18:58.677499643+00:00\"\n",
      "\n",
      "pluginctl profile get object-counter-left-9w5pt --start \"2022-11-21T16:15:09.334839163+00:00\" --end \"2022-11-21T16:16:41.246743830+00:00\"\n",
      "\n",
      "pluginctl profile get object-counter-left-r7lvs --start \"2022-11-21T17:15:09.397147245+00:00\" --end \"2022-11-21T17:16:45.453608479+00:00\"\n",
      "\n",
      "pluginctl profile get object-counter-left-6gd2g --start \"2022-11-21T18:15:09.443915442+00:00\" --end \"2022-11-21T18:19:44.351547708+00:00\"\n",
      "\n",
      "pluginctl profile get object-counter-left-c7zgp --start \"2022-11-21T19:15:09.416822403+00:00\" --end \"2022-11-21T19:16:57.465424268+00:00\"\n",
      "\n",
      "pluginctl profile get object-counter-left-p7bg4 --start \"2022-11-21T20:15:09.704976564+00:00\" --end \"2022-11-21T20:17:06.954849852+00:00\"\n",
      "\n",
      "pluginctl profile get object-counter-left-wjk9z --start \"2022-11-21T21:15:09.509030077+00:00\" --end \"2022-11-21T21:17:10.649260038+00:00\"\n",
      "\n",
      "pluginctl profile get object-counter-left-4kxzh --start \"2022-11-21T22:15:09.440609308+00:00\" --end \"2022-11-21T22:16:27.154565155+00:00\"\n",
      "\n",
      "pluginctl profile get object-counter-left-7bnb2 --start \"2022-11-21T23:15:09.537799400+00:00\" --end \"2022-11-21T23:17:06.050818758+00:00\"\n",
      "\n",
      "pluginctl profile get object-counter-left-9kn6m --start \"2022-11-22T00:15:09.584762068+00:00\" --end \"2022-11-22T00:18:55.156623874+00:00\"\n",
      "\n",
      "pluginctl profile get object-counter-left-2mckz --start \"2022-11-22T01:15:09.504247794+00:00\" --end \"2022-11-22T01:17:41.934948177+00:00\"\n",
      "\n",
      "pluginctl profile get object-counter-left-hnxjd --start \"2022-11-22T02:15:09.287174553+00:00\" --end \"2022-11-22T02:18:49.460274505+00:00\"\n",
      "\n",
      "pluginctl profile get object-counter-left-7wq8c --start \"2022-11-22T03:15:09.413518172+00:00\" --end \"2022-11-22T03:18:35.264655033+00:00\"\n",
      "\n",
      "\n"
     ]
    }
   ],
   "source": [
    "script = \"\"\"#!/bin/bash\n",
    "\"\"\"\n",
    "for _, r in object_counter_left.iterrows():\n",
    "    script += f'pluginctl profile get {r[\"k3s_pod_name\"]} --start \"{r[\"timestamp\"].isoformat()}\" --end \"{r[\"completed_at\"].isoformat()}\"\\n\\n'\n",
    "\n",
    "print(script)"
   ]
  },
  {
   "cell_type": "markdown",
   "id": "3bbc255e",
   "metadata": {},
   "source": [
    "Once you copied all CSVs for the plugin, it is time to analyze performance of it. Each CSV file contains different metrics about the plugin instance. We will use the following functions to process the file and extract metrics we want to analyze."
   ]
  },
  {
   "cell_type": "code",
   "execution_count": 40,
   "id": "86156749",
   "metadata": {},
   "outputs": [],
   "source": [
    "import os\n",
    "import datetime \n",
    "import pandas as pd\n",
    "from glob import glob\n",
    "import matplotlib.pyplot as plt"
   ]
  },
  {
   "cell_type": "code",
   "execution_count": 104,
   "id": "ec77de7b",
   "metadata": {},
   "outputs": [],
   "source": [
    "# Metrics to look at\n",
    "METRIC_CONTAINER_START_EPOCH = \"container_start_time_seconds\"\n",
    "METRIC_CPU_USAGE_SECOND = \"container_cpu_usage_seconds_total\"\n",
    "METRIC_MEMORY_USAGE_BYTES = \"container_memory_usage_bytes\"\n",
    "METRIC_FS_READS_BYTES_TOTAL = \"container_fs_reads_bytes_total\"\n",
    "METRIC_FS_WRITES_BYTES_TOTAL = \"container_fs_writes_bytes_total\"\n",
    "METRIC_GPU_LOAD1S = \"sys.metrics.gpu.average.1s\""
   ]
  },
  {
   "cell_type": "code",
   "execution_count": 113,
   "id": "2b56ef0c",
   "metadata": {},
   "outputs": [],
   "source": [
    "def get_time_and_value(line):\n",
    "    sp = line.split(\",\")\n",
    "    return pd.Timestamp(sp[5]), float(sp[6])\n",
    "\n",
    "def load_metric(file, name: str):\n",
    "    container_start_t = -1\n",
    "    metric = []\n",
    "    with open(file) as f:\n",
    "        for l in f:\n",
    "            if name in l:\n",
    "                metric.append((get_time_and_value(l)))\n",
    "            elif container_start_t < 0 and METRIC_CONTAINER_START_EPOCH in l:\n",
    "                container_start_t = get_time_and_value(l)[1]\n",
    "    if container_start_t == -1:\n",
    "        raise Exception(\"Couldn't find container start time\")\n",
    "    a = datetime.datetime.utcfromtimestamp(container_start_t)\n",
    "    metric.insert(0, (pd.to_datetime(a, utc=True), 0.))\n",
    "    return pd.DataFrame(metric, columns=[\"timestamp\", \"value\"])\n",
    "\n",
    "def create_since(df):\n",
    "    df[\"td\"] = df.timestamp.diff().dt.total_seconds()\n",
    "    df.at[0, \"td\"] = 0.\n",
    "    df[\"since\"] = df.td.cumsum()\n",
    "    return df\n",
    "\n",
    "def load_cpu(file):\n",
    "    cpu = load_metric(file, METRIC_CPU_USAGE_SECOND)\n",
    "    cpu = create_since(cpu)\n",
    "    cpu[\"vd\"] = cpu.value.diff(periods=1)\n",
    "    cpu.at[0, \"vd\"] = 0.\n",
    "    cpu[\"cpu_util\"] = cpu.vd / cpu.td * 1000.\n",
    "    cpu.at[0, \"cpu_util\"] = 0.\n",
    "    return cpu\n",
    "\n",
    "def load_mem(file):\n",
    "    mem = load_metric(file, METRIC_MEMORY_USAGE_BYTES)\n",
    "    mem = create_since(mem)\n",
    "    mem[\"value_in_M\"] = mem.value / 1024 / 1024\n",
    "    return mem\n",
    "\n",
    "def load_gpu(file):\n",
    "    gpu = load_metric(file, METRIC_GPU_LOAD1S)\n",
    "    gpu = create_since(gpu)\n",
    "    gpu[\"gpu_util\"] = gpu.value * 1000.\n",
    "    return gpu\n",
    "\n",
    "def get_perf(file):\n",
    "    cpu = load_cpu(file)\n",
    "    mem = load_mem(file)\n",
    "    gpu = load_gpu(file)\n",
    "    return cpu, mem, gpu\n",
    "\n",
    "def show_plot(file, duration=120):\n",
    "    cpu, mem, gpu = get_perf(file)\n",
    "    plt.close(\"all\")\n",
    "    plt.figure()\n",
    "    cp = cpu.plot(x=\"since\", y=\"cpu_util\", style=[\"o-r\"], label=\"CPU\", ylim=[0., 2000.], xlim=[0, duration])\n",
    "    cp.set_ylabel(\"CPU/GPU (Millicore)\")\n",
    "    if len(gpu.index) > 0:\n",
    "        gp = gpu.plot(x=\"since\", y=\"gpu_util\", style=[\"b\"], label=\"GPU\", ax=cp, secondary_y=False)\n",
    "        mp = mem.plot(x=\"since\", y=\"value_in_M\", style=[\"^-g\"], label=\"Memory\", ax=gp, secondary_y=True)\n",
    "        mp.set_ylim([0., 4000.])\n",
    "    else:\n",
    "        mp = mem.plot(x=\"since\", y=\"value_in_M\", style=[\"^-g\"], label=\"Memory\", ax=cp, secondary_y=True)\n",
    "    mp.set_ylabel(\"Memory (MiB)\")\n",
    "    cp.set_xlabel(\"epoch (Second)\")\n",
    "    cp.grid(which=\"both\", axis=\"both\")\n",
    "    plt.show()\n",
    "\n",
    "def show_plot_of_instances(plugin_name, base_path=\"./\", duration=120):\n",
    "    path = os.path.join(base_path, plugin_name)\n",
    "    _, ax = plt.subplots(3, 1)\n",
    "    for file in glob(f'{path}-*'):\n",
    "        cpu, mem, gpu = get_perf(file)\n",
    "        ax[0].plot(cpu[\"since\"], cpu[\"cpu_util\"], \"r\", label=\"CPU\")\n",
    "        ax[1].plot(mem[\"since\"], mem[\"value_in_M\"], \"g\", label=\"Memory\")\n",
    "        ax[2].plot(gpu[\"since\"], gpu[\"gpu_util\"], \"b\", label=\"GPU\")\n",
    "    ax[0].set_ylim([0., 2000.])\n",
    "    ax[0].set_ylabel(\"CPU (Millicore)\")\n",
    "    ax[1].set_ylim([0., 3000.])\n",
    "    ax[1].set_ylabel(\"Memory (MiB)\")\n",
    "    ax[2].set_ylim([0., 1000.])\n",
    "    ax[2].set_ylabel(\"GPU Percentage\")\n",
    "    plt.setp(ax, xlim=[0., duration])\n",
    "    plt.show()\n"
   ]
  },
  {
   "cell_type": "markdown",
   "id": "8af4ae32",
   "metadata": {},
   "source": [
    "We call the \"show_plot_of_instances\" function to plot measured resource consumption by the plugin instances. This will allow us to visually inspect how much CPU, Memory, and GPU were utilized by the plugin instances."
   ]
  },
  {
   "cell_type": "code",
   "execution_count": 114,
   "id": "6755ec6f",
   "metadata": {},
   "outputs": [
    {
     "data": {
      "image/png": "[encoded data removed]",
      "text/plain": [
       "<Figure size 640x480 with 3 Axes>"
      ]
     },
     "metadata": {},
     "output_type": "display_data"
    }
   ],
   "source": [
    "show_plot_of_instances(\"object-counter-*\", base_path=\"/tmp\", duration=300)"
   ]
  },
  {
   "cell_type": "markdown",
   "id": "4ad5caf6",
   "metadata": {},
   "source": [
    "It looks that the plugin used about 1000 millicores of CPU, up to 2.5 GB of memory, and about 10-20 % of GPU over the plugin runtime."
   ]
  }
 ],
 "metadata": {
  "kernelspec": {
   "display_name": "Python 3.10.7 64-bit",
   "language": "python",
   "name": "python3"
  },
  "language_info": {
   "codemirror_mode": {
    "name": "ipython",
    "version": 3
   },
   "file_extension": ".py",
   "mimetype": "text/x-python",
   "name": "python",
   "nbconvert_exporter": "python",
   "pygments_lexer": "ipython3",
   "version": "3.10.7"
  },
  "vscode": {
   "interpreter": {
    "hash": "aee8b7b246df8f9039afb4144a1f6fd8d2ca17a180786b69acc140d282b71a49"
   }
  }
 },
 "nbformat": 4,
 "nbformat_minor": 5
}
