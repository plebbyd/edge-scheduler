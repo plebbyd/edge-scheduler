{
 "cells": [
  {
   "cell_type": "markdown",
   "id": "52338726",
   "metadata": {},
   "source": [
    "> WARNING: This notebook contains the use of \"pluginctl profile\" subcommand which has been deprecated. The profile data will not be obtained from the subcommand. We will follow up with a series of tutorials on using a new way to pull performance data."
   ]
  },
  {
   "cell_type": "code",
   "execution_count": 1,
   "id": "cbcd8ce0",
   "metadata": {},
   "outputs": [],
   "source": [
    "from utils import *"
   ]
  },
  {
   "cell_type": "markdown",
   "id": "9bca480c",
   "metadata": {},
   "source": [
    "In this analysis, we target the Waggle node [W02F](https://portal.sagecontinuum.org/node/000048B02D15BDC2) and look for all plugin runs in the last day."
   ]
  },
  {
   "cell_type": "code",
   "execution_count": 2,
   "id": "061400cf",
   "metadata": {},
   "outputs": [],
   "source": [
    "df = fill_completion_failure(parse_events(get_data(\"w02f\", start=\"-1d\")))"
   ]
  },
  {
   "cell_type": "markdown",
   "id": "b1e1c43e",
   "metadata": {},
   "source": [
    "We count plugins runs on the node within the time frame."
   ]
  },
  {
   "cell_type": "code",
   "execution_count": 25,
   "id": "805a4057",
   "metadata": {},
   "outputs": [
    {
     "name": "stdout",
     "output_type": "stream",
     "text": [
      "Total number of plugin runs: 120\n",
      "completed    116\n",
      "unknown        4\n",
      "Name: end_state, dtype: int64\n"
     ]
    }
   ],
   "source": [
    "print(f'Total number of plugin runs: {df[\"end_state\"].count()}')\n",
    "print(df[\"end_state\"].value_counts())"
   ]
  },
  {
   "cell_type": "markdown",
   "id": "9cf10d40",
   "metadata": {},
   "source": [
    "We analyze how long it took to run plugins on the node. We consider only the plugin runs that were finished successfully."
   ]
  },
  {
   "cell_type": "code",
   "execution_count": 8,
   "id": "11d494ca",
   "metadata": {},
   "outputs": [
    {
     "data": {
      "text/html": [
       "<div>\n",
       "<style scoped>\n",
       "    .dataframe tbody tr th:only-of-type {\n",
       "        vertical-align: middle;\n",
       "    }\n",
       "\n",
       "    .dataframe tbody tr th {\n",
       "        vertical-align: top;\n",
       "    }\n",
       "\n",
       "    .dataframe thead th {\n",
       "        text-align: right;\n",
       "    }\n",
       "</style>\n",
       "<table border=\"1\" class=\"dataframe\">\n",
       "  <thead>\n",
       "    <tr style=\"text-align: right;\">\n",
       "      <th></th>\n",
       "      <th>count</th>\n",
       "      <th>mean</th>\n",
       "      <th>std</th>\n",
       "      <th>min</th>\n",
       "      <th>25%</th>\n",
       "      <th>50%</th>\n",
       "      <th>75%</th>\n",
       "      <th>max</th>\n",
       "    </tr>\n",
       "    <tr>\n",
       "      <th>plugin_task</th>\n",
       "      <th></th>\n",
       "      <th></th>\n",
       "      <th></th>\n",
       "      <th></th>\n",
       "      <th></th>\n",
       "      <th></th>\n",
       "      <th></th>\n",
       "      <th></th>\n",
       "    </tr>\n",
       "  </thead>\n",
       "  <tbody>\n",
       "    <tr>\n",
       "      <th>imagesampler-left</th>\n",
       "      <td>24</td>\n",
       "      <td>0 days 00:00:08.752146613</td>\n",
       "      <td>0 days 00:00:00.504456464</td>\n",
       "      <td>0 days 00:00:07.885313693</td>\n",
       "      <td>0 days 00:00:08.387254357</td>\n",
       "      <td>0 days 00:00:08.590545810</td>\n",
       "      <td>0 days 00:00:09.087697912</td>\n",
       "      <td>0 days 00:00:09.809436849</td>\n",
       "    </tr>\n",
       "    <tr>\n",
       "      <th>imagesampler-right</th>\n",
       "      <td>23</td>\n",
       "      <td>0 days 00:00:08.616817575</td>\n",
       "      <td>0 days 00:00:00.520459321</td>\n",
       "      <td>0 days 00:00:07.710170174</td>\n",
       "      <td>0 days 00:00:08.291683646</td>\n",
       "      <td>0 days 00:00:08.535713171</td>\n",
       "      <td>0 days 00:00:08.895256865</td>\n",
       "      <td>0 days 00:00:09.665326156</td>\n",
       "    </tr>\n",
       "    <tr>\n",
       "      <th>object-counter-left</th>\n",
       "      <td>24</td>\n",
       "      <td>0 days 00:02:00.100826045</td>\n",
       "      <td>0 days 00:00:23.157002694</td>\n",
       "      <td>0 days 00:01:14.407964295</td>\n",
       "      <td>0 days 00:01:44.873538959</td>\n",
       "      <td>0 days 00:02:01.131834098</td>\n",
       "      <td>0 days 00:02:13.525071291</td>\n",
       "      <td>0 days 00:02:46.007258408</td>\n",
       "    </tr>\n",
       "    <tr>\n",
       "      <th>object-counter-right</th>\n",
       "      <td>45</td>\n",
       "      <td>0 days 00:02:01.753468891</td>\n",
       "      <td>0 days 00:00:27.722271855</td>\n",
       "      <td>0 days 00:01:23.209693926</td>\n",
       "      <td>0 days 00:01:40.341144018</td>\n",
       "      <td>0 days 00:01:54.807918893</td>\n",
       "      <td>0 days 00:02:13.106818077</td>\n",
       "      <td>0 days 00:03:22.401421639</td>\n",
       "    </tr>\n",
       "  </tbody>\n",
       "</table>\n",
       "</div>"
      ],
      "text/plain": [
       "                     count                       mean  \\\n",
       "plugin_task                                             \n",
       "imagesampler-left       24  0 days 00:00:08.752146613   \n",
       "imagesampler-right      23  0 days 00:00:08.616817575   \n",
       "object-counter-left     24  0 days 00:02:00.100826045   \n",
       "object-counter-right    45  0 days 00:02:01.753468891   \n",
       "\n",
       "                                            std                        min  \\\n",
       "plugin_task                                                                  \n",
       "imagesampler-left     0 days 00:00:00.504456464  0 days 00:00:07.885313693   \n",
       "imagesampler-right    0 days 00:00:00.520459321  0 days 00:00:07.710170174   \n",
       "object-counter-left   0 days 00:00:23.157002694  0 days 00:01:14.407964295   \n",
       "object-counter-right  0 days 00:00:27.722271855  0 days 00:01:23.209693926   \n",
       "\n",
       "                                            25%                        50%  \\\n",
       "plugin_task                                                                  \n",
       "imagesampler-left     0 days 00:00:08.387254357  0 days 00:00:08.590545810   \n",
       "imagesampler-right    0 days 00:00:08.291683646  0 days 00:00:08.535713171   \n",
       "object-counter-left   0 days 00:01:44.873538959  0 days 00:02:01.131834098   \n",
       "object-counter-right  0 days 00:01:40.341144018  0 days 00:01:54.807918893   \n",
       "\n",
       "                                            75%                        max  \n",
       "plugin_task                                                                 \n",
       "imagesampler-left     0 days 00:00:09.087697912  0 days 00:00:09.809436849  \n",
       "imagesampler-right    0 days 00:00:08.895256865  0 days 00:00:09.665326156  \n",
       "object-counter-left   0 days 00:02:13.525071291  0 days 00:02:46.007258408  \n",
       "object-counter-right  0 days 00:02:13.106818077  0 days 00:03:22.401421639  "
      ]
     },
     "execution_count": 8,
     "metadata": {},
     "output_type": "execute_result"
    }
   ],
   "source": [
    "df[df[\"end_state\"] == \"completed\"].groupby(\"plugin_task\")[\"runtime\"].describe()"
   ]
  }
 ],
 "metadata": {
  "kernelspec": {
   "display_name": "Python 3.10.7 64-bit",
   "language": "python",
   "name": "python3"
  },
  "language_info": {
   "codemirror_mode": {
    "name": "ipython",
    "version": 3
   },
   "file_extension": ".py",
   "mimetype": "text/x-python",
   "name": "python",
   "nbconvert_exporter": "python",
   "pygments_lexer": "ipython3",
   "version": "3.10.7"
  },
  "vscode": {
   "interpreter": {
    "hash": "aee8b7b246df8f9039afb4144a1f6fd8d2ca17a180786b69acc140d282b71a49"
   }
  }
 },
 "nbformat": 4,
 "nbformat_minor": 5
}
